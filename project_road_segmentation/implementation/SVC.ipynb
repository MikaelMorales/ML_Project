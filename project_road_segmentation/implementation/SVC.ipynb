{
 "cells": [
  {
   "cell_type": "code",
   "execution_count": 1,
   "metadata": {
    "collapsed": false
   },
   "outputs": [],
   "source": [
    "%matplotlib inline\n",
    "import numpy as np\n",
    "import matplotlib.pyplot as plt\n",
    "import os,sys\n",
    "from image_helpers import *\n",
    "from features import *\n",
    "from classification import *\n",
    "from cross_validation import *\n",
    "%load_ext autoreload\n",
    "%autoreload 2"
   ]
  },
  {
   "cell_type": "code",
   "execution_count": 2,
   "metadata": {
    "collapsed": true
   },
   "outputs": [],
   "source": [
    "#Global variables\n",
    "image_dir = \"../training/images/\"\n",
    "gt_dir = \"../training/groundtruth/\"\n",
    "files = os.listdir(image_dir)"
   ]
  },
  {
   "cell_type": "code",
   "execution_count": 3,
   "metadata": {
    "collapsed": true
   },
   "outputs": [],
   "source": [
    "# Loaded a set of images with their groundtruth\n",
    "imgs, gt_imgs = load_n_images_groundtruth(image_dir, gt_dir, 10)"
   ]
  },
  {
   "cell_type": "code",
   "execution_count": 4,
   "metadata": {
    "collapsed": false
   },
   "outputs": [],
   "source": [
    "from classification_model import ClassificationModel\n",
    "\n",
    "model = ClassificationModel()"
   ]
  },
  {
   "cell_type": "code",
   "execution_count": 7,
   "metadata": {
    "collapsed": false
   },
   "outputs": [
    {
     "name": "stdout",
     "output_type": "stream",
     "text": [
      "Training completed\n",
      "(1250,)\n",
      "(1250, 1)\n",
      "Training completed\n",
      "(1250,)\n",
      "(1250, 1)\n",
      "Training completed\n",
      "(1250,)\n",
      "(1250, 1)\n",
      "Training completed\n",
      "(1250,)\n",
      "(1250, 1)\n",
      "Cross validation accuracy: 0.7638, std=0.0200589132308\n"
     ]
    }
   ],
   "source": [
    "cross_validation(model, gt_imgs, imgs, 4, model.patchSize, model.foreground_threshold)"
   ]
  },
  {
   "cell_type": "code",
   "execution_count": null,
   "metadata": {
    "collapsed": true
   },
   "outputs": [],
   "source": []
  }
 ],
 "metadata": {
  "kernelspec": {
   "display_name": "Python [Root]",
   "language": "python",
   "name": "Python [Root]"
  },
  "language_info": {
   "codemirror_mode": {
    "name": "ipython",
    "version": 3
   },
   "file_extension": ".py",
   "mimetype": "text/x-python",
   "name": "python",
   "nbconvert_exporter": "python",
   "pygments_lexer": "ipython3",
   "version": "3.5.2"
  }
 },
 "nbformat": 4,
 "nbformat_minor": 0
}
