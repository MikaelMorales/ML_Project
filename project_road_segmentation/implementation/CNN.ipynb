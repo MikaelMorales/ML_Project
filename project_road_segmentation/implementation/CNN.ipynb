{
 "cells": [
  {
   "cell_type": "code",
   "execution_count": 1,
   "metadata": {},
   "outputs": [
    {
     "name": "stderr",
     "output_type": "stream",
     "text": [
      "Using TensorFlow backend.\n",
      "/anaconda3/lib/python3.6/importlib/_bootstrap.py:205: RuntimeWarning: compiletime version 3.5 of module 'tensorflow.python.framework.fast_tensor_util' does not match runtime version 3.6\n",
      "  return f(*args, **kwds)\n"
     ]
    }
   ],
   "source": [
    "%matplotlib inline\n",
    "import numpy as np\n",
    "import matplotlib.pyplot as plt\n",
    "import os,sys\n",
    "from image_helpers import *\n",
    "from classification import *\n",
    "from cnn_model import CNN\n",
    "%load_ext autoreload\n",
    "%autoreload 2"
   ]
  },
  {
   "cell_type": "code",
   "execution_count": 2,
   "metadata": {},
   "outputs": [],
   "source": [
    "#Global variables\n",
    "image_dir = \"../training/images/\"\n",
    "gt_dir = \"../training/groundtruth/\"\n",
    "files = os.listdir(image_dir)\n",
    "\n",
    "patch_size = 16\n",
    "foregroud_threshold = 0.25"
   ]
  },
  {
   "cell_type": "code",
   "execution_count": 3,
   "metadata": {},
   "outputs": [],
   "source": [
    "# Loading a set of images with their groundtruth\n",
    "imgs, gt_imgs = load_n_images_groundtruth(image_dir, gt_dir, 20, rotate=True)"
   ]
  },
  {
   "cell_type": "code",
   "execution_count": null,
   "metadata": {},
   "outputs": [],
   "source": [
    "model = CNN(patch_size, foregroud_threshold)"
   ]
  },
  {
   "cell_type": "code",
   "execution_count": 14,
   "metadata": {},
   "outputs": [
    {
     "name": "stdout",
     "output_type": "stream",
     "text": [
      "Train on 20000 samples, validate on 5000 samples\n",
      "Epoch 1/100\n",
      "20000/20000 [==============================] - 197s 10ms/step - loss: 0.5539 - acc: 0.7375 - val_loss: 0.4602 - val_acc: 0.8208\n",
      "Epoch 2/100\n",
      "20000/20000 [==============================] - 195s 10ms/step - loss: 0.4674 - acc: 0.7466 - val_loss: 0.4162 - val_acc: 0.7864\n",
      "Epoch 3/100\n",
      "20000/20000 [==============================] - 196s 10ms/step - loss: 0.4004 - acc: 0.8034 - val_loss: 0.3665 - val_acc: 0.7890\n",
      "Epoch 4/100\n",
      "20000/20000 [==============================] - 233s 12ms/step - loss: 0.3393 - acc: 0.8468 - val_loss: 0.3853 - val_acc: 0.7844\n",
      "Epoch 5/100\n",
      "20000/20000 [==============================] - 219s 11ms/step - loss: 0.2995 - acc: 0.8680 - val_loss: 0.3571 - val_acc: 0.8298\n",
      "Epoch 6/100\n",
      "20000/20000 [==============================] - 205s 10ms/step - loss: 0.2604 - acc: 0.8893 - val_loss: 0.3895 - val_acc: 0.8050\n",
      "Epoch 7/100\n",
      "20000/20000 [==============================] - 216s 11ms/step - loss: 0.2340 - acc: 0.8991 - val_loss: 0.4298 - val_acc: 0.7932\n",
      "Epoch 8/100\n",
      "20000/20000 [==============================] - 221s 11ms/step - loss: 0.2109 - acc: 0.9116 - val_loss: 0.3540 - val_acc: 0.8664\n",
      "Epoch 9/100\n",
      "20000/20000 [==============================] - 221s 11ms/step - loss: 0.1905 - acc: 0.9218 - val_loss: 0.3842 - val_acc: 0.8318\n",
      "Epoch 10/100\n",
      "20000/20000 [==============================] - 223s 11ms/step - loss: 0.1778 - acc: 0.9265 - val_loss: 0.3751 - val_acc: 0.8522\n",
      "Epoch 11/100\n",
      "20000/20000 [==============================] - 198s 10ms/step - loss: 0.1560 - acc: 0.9385 - val_loss: 0.3952 - val_acc: 0.8512\n",
      "Epoch 12/100\n",
      "20000/20000 [==============================] - 206s 10ms/step - loss: 0.1424 - acc: 0.9408 - val_loss: 0.4313 - val_acc: 0.8286\n",
      "Epoch 13/100\n",
      "20000/20000 [==============================] - 201s 10ms/step - loss: 0.1328 - acc: 0.9464 - val_loss: 0.3732 - val_acc: 0.8598\n",
      "Epoch 14/100\n",
      "20000/20000 [==============================] - 197s 10ms/step - loss: 0.1125 - acc: 0.9556 - val_loss: 0.4913 - val_acc: 0.8272\n",
      "Epoch 15/100\n",
      "20000/20000 [==============================] - 200s 10ms/step - loss: 0.1041 - acc: 0.9592 - val_loss: 0.4382 - val_acc: 0.8620\n",
      "Epoch 16/100\n",
      "20000/20000 [==============================] - 203s 10ms/step - loss: 0.0954 - acc: 0.9639 - val_loss: 0.4552 - val_acc: 0.8674\n",
      "Epoch 17/100\n",
      "20000/20000 [==============================] - 224s 11ms/step - loss: 0.0844 - acc: 0.9680 - val_loss: 0.5059 - val_acc: 0.8342\n",
      "Epoch 18/100\n",
      "15616/20000 [======================>.......] - ETA: 45s - loss: 0.0844 - acc: 0.9687"
     ]
    }
   ],
   "source": [
    "model.train(imgs, gt_imgs)"
   ]
  },
  {
   "cell_type": "code",
   "execution_count": null,
   "metadata": {
    "collapsed": true
   },
   "outputs": [],
   "source": [
    "model.save_weights('cnn_weights_without_neighbors.h5')"
   ]
  },
  {
   "cell_type": "code",
   "execution_count": null,
   "metadata": {
    "collapsed": true
   },
   "outputs": [],
   "source": [
    "model.load_weights('cnn_weights_without_neighbors.h5')"
   ]
  },
  {
   "cell_type": "code",
   "execution_count": null,
   "metadata": {},
   "outputs": [],
   "source": [
    "#Predict and Display image\n",
    "img_idx = 18\n",
    "#Z = model.predict(imgs[img_idx])\n",
    "#print(Z)\n",
    "predict_and_display_image(model, imgs[img_idx], gt_imgs[img_idx], imgs[img_idx])"
   ]
  },
  {
   "cell_type": "code",
   "execution_count": null,
   "metadata": {},
   "outputs": [],
   "source": [
    "from classification import predict_test_set_images\n",
    "predict_test_set_images('prediction_91_12_10_2017.csv', model, cnn=True)"
   ]
  },
  {
   "cell_type": "code",
   "execution_count": null,
   "metadata": {
    "collapsed": true
   },
   "outputs": [],
   "source": []
  }
 ],
 "metadata": {
  "kernelspec": {
   "display_name": "Python 3",
   "language": "python",
   "name": "python3"
  },
  "language_info": {
   "codemirror_mode": {
    "name": "ipython",
    "version": 3
   },
   "file_extension": ".py",
   "mimetype": "text/x-python",
   "name": "python",
   "nbconvert_exporter": "python",
   "pygments_lexer": "ipython3",
   "version": "3.6.2"
  }
 },
 "nbformat": 4,
 "nbformat_minor": 2
}
